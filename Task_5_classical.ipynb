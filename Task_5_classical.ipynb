{
 "cells": [
  {
   "cell_type": "code",
   "execution_count": 1,
   "metadata": {},
   "outputs": [],
   "source": [
    "import os\n",
    "import shutil\n",
    "import platform\n",
    "import subprocess\n",
    "import zipfile\n",
    "import json\n",
    "import numpy as np\n",
    "import pandas as pd\n",
    "import torch\n",
    "import torch.nn as nn\n",
    "import torch.optim as optim\n",
    "import torch.nn.functional as F\n",
    "from torch.utils.data import DataLoader\n",
    "from torchvision import datasets, transforms\n",
    "import matplotlib.pyplot as plt\n",
    "from sklearn.metrics import accuracy_score\n",
    "import kaggle\n",
    "from sklearn.linear_model import LogisticRegression\n",
    "from sklearn.preprocessing import StandardScaler\n",
    "from sklearn.model_selection import train_test_split\n",
    "from tqdm import trange"
   ]
  },
  {
   "cell_type": "markdown",
   "metadata": {},
   "source": [
    "Define the paths"
   ]
  },
  {
   "cell_type": "code",
   "execution_count": 10,
   "metadata": {},
   "outputs": [],
   "source": [
    "\n",
    "kaggle_dir = \".kaggle/\"\n",
    "kaggle_json_path = \".kaggle/kaggle.json\"\n",
    "dataset_url = \"danielbacioiu/tig-aluminium-5083\"\n",
    "base_dir = 'kaggle/datasets/al5083/al5083'"
   ]
  },
  {
   "cell_type": "markdown",
   "metadata": {},
   "source": [
    "Kaggle setup"
   ]
  },
  {
   "cell_type": "code",
   "execution_count": 3,
   "metadata": {},
   "outputs": [
    {
     "name": "stdout",
     "output_type": "stream",
     "text": [
      "Setup complete!\n"
     ]
    }
   ],
   "source": [
    "\n",
    "if not os.path.exists(kaggle_dir):\n",
    "    os.makedirs(kaggle_dir)\n",
    "\n",
    "shutil.move(kaggle_json_path, os.path.join(kaggle_dir, \"kaggle.json\"))\n",
    "\n",
    "if platform.system() != 'Windows':\n",
    "    os.chmod(kaggle_json_path, 0o600)\n",
    "else:\n",
    "    os.chmod(kaggle_json_path, 0o400)\n",
    "\n",
    "print(\"Setup complete!\")"
   ]
  },
  {
   "cell_type": "markdown",
   "metadata": {},
   "source": [
    "Download dataset"
   ]
  },
  {
   "cell_type": "code",
   "execution_count": 4,
   "metadata": {},
   "outputs": [
    {
     "name": "stdout",
     "output_type": "stream",
     "text": [
      "Dataset download complete!\n"
     ]
    }
   ],
   "source": [
    "\n",
    "os.chmod(os.path.expanduser(\".kaggle/kaggle.json\"), 0o600)\n",
    "subprocess.run([\"kaggle\", \"datasets\", \"download\", \"-d\", dataset_url])\n",
    "\n",
    "print(\"Dataset download complete!\")"
   ]
  },
  {
   "cell_type": "markdown",
   "metadata": {},
   "source": [
    "Unzip dataset"
   ]
  },
  {
   "cell_type": "code",
   "execution_count": 6,
   "metadata": {},
   "outputs": [
    {
     "name": "stdout",
     "output_type": "stream",
     "text": [
      "Dataset unzipped successfully!\n",
      "Zip archive removed!\n"
     ]
    }
   ],
   "source": [
    "\n",
    "zip_file = None\n",
    "for file in os.listdir('.'):\n",
    "    if file.endswith(\".zip\"):\n",
    "        zip_file = file\n",
    "        break\n",
    "\n",
    "if zip_file:\n",
    "    zip_file_path = 'tig-aluminium-5083.zip'\n",
    "    with zipfile.ZipFile(zip_file_path, 'r') as zip_ref:\n",
    "        zip_ref.extractall('kaggle/datasets/')\n",
    "    print(\"Dataset unzipped successfully!\")\n",
    "    os.remove(zip_file_path)\n",
    "    print(\"Zip archive removed!\")\n",
    "else:\n",
    "    print(\"No zip file found.\")"
   ]
  },
  {
   "cell_type": "markdown",
   "metadata": {},
   "source": [
    "Load and preprocess data"
   ]
  },
  {
   "cell_type": "code",
   "execution_count": 11,
   "metadata": {},
   "outputs": [],
   "source": [
    "train_data_path = os.path.join(base_dir, 'train')\n",
    "test_data_path = os.path.join(base_dir, 'test')"
   ]
  },
  {
   "cell_type": "markdown",
   "metadata": {},
   "source": [
    "Load labels"
   ]
  },
  {
   "cell_type": "code",
   "execution_count": 13,
   "metadata": {},
   "outputs": [],
   "source": [
    "\n",
    "with open(f'{train_data_path}\\\\train.json', 'r') as f:\n",
    "    label_train = json.load(f)\n",
    "\n",
    "keys_orig = list(label_train.keys())\n",
    "values = list(label_train.values())\n",
    "keys = [key.replace(\"/\", \" \").split()[0] + ' ' + key.replace(\"/\", \" \").split()[1] for key in keys_orig]\n",
    "true_labels_dict = {keys[i]: values[i] for i in range(len(keys))}"
   ]
  },
  {
   "cell_type": "markdown",
   "metadata": {},
   "source": [
    "Balance dataset"
   ]
  },
  {
   "cell_type": "code",
   "execution_count": 14,
   "metadata": {},
   "outputs": [],
   "source": [
    "\n",
    "folders = []\n",
    "for _, dirnames, _ in os.walk(train_data_path):\n",
    "    folders.extend(dirnames)\n",
    "    break\n",
    "\n",
    "for folder in folders:\n",
    "    location_files = os.path.join(train_data_path, folder)\n",
    "    files = []\n",
    "    for _, _, filenames in os.walk(location_files):\n",
    "        files.extend(filenames)\n",
    "        break\n",
    "\n",
    "    if true_labels_dict[folder] == 0:\n",
    "        for i, file in enumerate(files):\n",
    "            if (i + 1) % 8 != 1:\n",
    "                os.remove(os.path.join(location_files, file))\n",
    "    elif true_labels_dict[folder] == 1:\n",
    "        for i, file in enumerate(files):\n",
    "            if (i + 1) % 2 != 1:\n",
    "                os.remove(os.path.join(location_files, file))\n",
    "    elif true_labels_dict[folder] == 2:\n",
    "        for i, file in enumerate(files):\n",
    "            if (i + 1) % 7 != 1:\n",
    "                os.remove(os.path.join(location_files, file))\n",
    "    elif true_labels_dict[folder] == 3:\n",
    "        for i, file in enumerate(files):\n",
    "            if (i + 1) % 4 != 1:\n",
    "                os.remove(os.path.join(location_files, file))\n",
    "    elif true_labels_dict[folder] == 4:\n",
    "        for i, file in enumerate(files):\n",
    "            if (i + 1) % 3 != 1:\n",
    "                os.remove(os.path.join(location_files, file))\n",
    "    elif true_labels_dict[folder] == 5:\n",
    "        for i, file in enumerate(files):\n",
    "            if (i + 1) % 3 != 1:\n",
    "                os.remove(os.path.join(location_files, file))\n"
   ]
  },
  {
   "cell_type": "markdown",
   "metadata": {},
   "source": [
    "Load data"
   ]
  },
  {
   "cell_type": "code",
   "execution_count": 15,
   "metadata": {},
   "outputs": [],
   "source": [
    "\n",
    "mean = 0.2069\n",
    "std = 0.1471\n",
    "transform = transforms.Compose([\n",
    "    transforms.CenterCrop((800, 800)),\n",
    "    transforms.ToTensor(),\n",
    "    transforms.Normalize(mean, std)\n",
    "])\n",
    "\n",
    "train_dataset = datasets.ImageFolder(root=train_data_path, transform=transform)\n",
    "original_labels_dict = train_dataset.class_to_idx"
   ]
  },
  {
   "cell_type": "markdown",
   "metadata": {},
   "source": [
    "Define network"
   ]
  },
  {
   "cell_type": "code",
   "execution_count": 16,
   "metadata": {},
   "outputs": [],
   "source": [
    "\n",
    "class Network(nn.Module):\n",
    "    def __init__(self):\n",
    "        super().__init__()\n",
    "        self.features = nn.Sequential(\n",
    "            nn.MaxPool2d(kernel_size=2),\n",
    "            nn.Conv2d(3, 8, kernel_size=5, stride=2),\n",
    "            nn.BatchNorm2d(8),\n",
    "            nn.ReLU(inplace=True),\n",
    "            nn.Dropout(p=0.1),\n",
    "            nn.MaxPool2d(kernel_size=2),\n",
    "            nn.Conv2d(8, 16, kernel_size=5, stride=2),\n",
    "            nn.BatchNorm2d(16),\n",
    "            nn.ReLU(inplace=True),\n",
    "            nn.Dropout(p=0.2),\n",
    "            nn.MaxPool2d(kernel_size=2),\n",
    "            nn.Conv2d(16, 16, kernel_size=5),\n",
    "            nn.BatchNorm2d(16),\n",
    "            nn.ReLU(inplace=True),\n",
    "            nn.Dropout(p=0.2),\n",
    "            nn.MaxPool2d(kernel_size=2),\n",
    "            nn.Conv2d(16, 8, kernel_size=3),\n",
    "            nn.BatchNorm2d(8),\n",
    "            nn.ReLU(inplace=True)\n",
    "        )\n",
    "        self.classifier = nn.Sequential(\n",
    "            nn.Dropout(p=0.2),\n",
    "            nn.Linear(102400 // 200, 256),\n",
    "            nn.ReLU(inplace=True),\n",
    "            nn.Dropout(p=0.2),\n",
    "            nn.Linear(256, 128),\n",
    "            nn.ReLU(inplace=True),\n",
    "            nn.Dropout(p=0.1),\n",
    "            nn.Linear(128, 6),\n",
    "            nn.Softmax(dim=1)\n",
    "        )\n",
    "\n",
    "    def forward(self, x):\n",
    "        x = self.features(x)\n",
    "        x = x.reshape(-1, 102400 // 200)\n",
    "        x = self.classifier(x)\n",
    "        return x"
   ]
  },
  {
   "cell_type": "markdown",
   "metadata": {},
   "source": [
    "Training setup"
   ]
  },
  {
   "cell_type": "code",
   "execution_count": 17,
   "metadata": {},
   "outputs": [
    {
     "name": "stdout",
     "output_type": "stream",
     "text": [
      "Running on the CPU\n"
     ]
    }
   ],
   "source": [
    "def get_num_correct(pred, label):\n",
    "    return pred.argmax(dim=1).eq(label).sum().item()\n",
    "\n",
    "device = torch.device(\"cuda:0\" if torch.cuda.is_available() else \"cpu\")\n",
    "print(f\"Running on the {'GPU' if device.type == 'cuda' else 'CPU'}\")\n",
    "\n",
    "net = Network().to(device)\n",
    "label_map_dict = {value: true_labels_dict[key] for key, value in original_labels_dict.items()}\n",
    "\n",
    "train_loader = DataLoader(train_dataset, batch_size=10, shuffle=True)\n",
    "optimizer = optim.Adam(net.parameters(), lr=5e-4, weight_decay=1e-3)"
   ]
  },
  {
   "cell_type": "markdown",
   "metadata": {},
   "source": [
    "Train the model"
   ]
  },
  {
   "cell_type": "code",
   "execution_count": 21,
   "metadata": {},
   "outputs": [
    {
     "name": "stderr",
     "output_type": "stream",
     "text": [
      "Training Progress: 100%|██████████| 10/10 [56:00<00:00, 336.03s/it, Epoch Loss=620, Epoch Accuracy=98.54%]\n"
     ]
    }
   ],
   "source": [
    "epoch = 0\n",
    "accuracy_list = []\n",
    "num_epochs = 10 \n",
    "\n",
    "with trange(num_epochs, desc=\"Training Progress\") as pbar_epoch:\n",
    "    while epoch < num_epochs:\n",
    "        total_loss = 0\n",
    "        total_correct = 0\n",
    "        total_length = 0\n",
    "\n",
    "        with trange(len(train_loader), desc=f\"Epoch {epoch+1}\", leave=False) as pbar_batch:\n",
    "            for batch_idx, batch in enumerate(train_loader):\n",
    "                image, label_original = batch\n",
    "                label = torch.tensor([label_map_dict[lab.item()] for lab in label_original])\n",
    "\n",
    "                pred = net(image.to(device))\n",
    "                loss = F.cross_entropy(pred, label.to(device))\n",
    "\n",
    "                optimizer.zero_grad()\n",
    "                loss.backward()\n",
    "                optimizer.step()\n",
    "\n",
    "                total_loss += loss.item()\n",
    "                total_correct += get_num_correct(pred, label.to(device))\n",
    "                total_length += len(label)\n",
    "\n",
    "                acc = total_correct * 100 / total_length\n",
    "                accuracy_list.append(acc)\n",
    "\n",
    "                pbar_batch.set_postfix({\"Loss\": loss.item(), \"Accuracy\": f\"{acc:.2f}%\"})\n",
    "                pbar_batch.update()\n",
    "\n",
    "        epoch_accuracy = total_correct * 100 / total_length\n",
    "        pbar_epoch.set_postfix({\"Epoch Loss\": total_loss, \"Epoch Accuracy\": f\"{epoch_accuracy:.2f}%\"})\n",
    "        pbar_epoch.update()\n",
    "\n",
    "        epoch += 1\n",
    "\n",
    "        # if epoch_accuracy >= 95:\n",
    "        #     break\n"
   ]
  },
  {
   "cell_type": "markdown",
   "metadata": {},
   "source": [
    "Evaluate on test set"
   ]
  },
  {
   "cell_type": "code",
   "execution_count": 22,
   "metadata": {},
   "outputs": [
    {
     "name": "stdout",
     "output_type": "stream",
     "text": [
      "Defective parts indices: [   0    1    2 ... 6585 6586 6587]\n",
      "Non-defective parts indices: [  43  112  129  131  132  133  135  138  140  148  149  152  193  223\n",
      "  234  238  241  243  245  246  275  498  532  551  610 1031 1035 1489\n",
      " 1977 3192 3195 3196 3205 3450 3453 3590 3699 3727 3854 3871 3882 3894\n",
      " 3901 4216 4225 4330 4336 5453 5454 5701 5722 5729 5754]\n"
     ]
    }
   ],
   "source": [
    "# Load test data\n",
    "test_data_path = os.path.join(base_dir, 'test')\n",
    "test_dataset = datasets.ImageFolder(root=test_data_path, transform=transform)\n",
    "test_loader = DataLoader(test_dataset, batch_size=10, shuffle=False)\n",
    "\n",
    "# Evaluation function to identify defective parts\n",
    "def identify_defective_parts(model, test_loader, device, threshold=0.5):\n",
    "    model.eval()  # Set model to evaluation mode\n",
    "    all_predictions = []\n",
    "    all_labels = []\n",
    "    \n",
    "    with torch.no_grad():  # Disable gradient calculation\n",
    "        for images, labels in test_loader:\n",
    "            predictions = model(images.to(device))\n",
    "            all_predictions.extend(predictions.cpu().numpy())\n",
    "            all_labels.extend(labels.cpu().numpy())\n",
    "    \n",
    "    all_predictions = np.array(all_predictions)\n",
    "    \n",
    "    # Assuming the defect class is the one with the highest probability\n",
    "    # Here we assume that the highest probability in the prediction vector indicates the defect\n",
    "    defect_probabilities = np.max(all_predictions, axis=1)\n",
    "    \n",
    "    defective_indices = np.where(defect_probabilities > threshold)[0]\n",
    "    non_defective_indices = np.where(defect_probabilities <= threshold)[0]\n",
    "    \n",
    "    print(f\"Defective parts indices: {defective_indices}\")\n",
    "    print(f\"Non-defective parts indices: {non_defective_indices}\")\n",
    "    \n",
    "    return defective_indices, non_defective_indices\n",
    "\n",
    "# Call the function\n",
    "defective_indices, non_defective_indices = identify_defective_parts(net, test_loader, device)"
   ]
  },
  {
   "cell_type": "markdown",
   "metadata": {},
   "source": [
    "Plotting Accuracy"
   ]
  },
  {
   "cell_type": "code",
   "execution_count": 23,
   "metadata": {},
   "outputs": [
    {
     "data": {
      "image/png": "[encoded data removed]",
      "text/plain": [
       "<Figure size 1000x500 with 1 Axes>"
      ]
     },
     "metadata": {},
     "output_type": "display_data"
    }
   ],
   "source": [
    "plt.figure(figsize=(10, 5))\n",
    "plt.plot(range(1, len(accuracy_list) + 1), accuracy_list, marker='o', linestyle='-', color='b')\n",
    "plt.title('Training Accuracy over Epochs')\n",
    "plt.xlabel('Epoch')\n",
    "plt.ylabel('Accuracy (%)')\n",
    "plt.xticks(range(1, len(accuracy_list) + 1))\n",
    "plt.grid(True)\n",
    "plt.show()"
   ]
  }
 ],
 "metadata": {
  "kernelspec": {
   "display_name": "myenv_3_9",
   "language": "python",
   "name": "python3"
  },
  "language_info": {
   "codemirror_mode": {
    "name": "ipython",
    "version": 3
   },
   "file_extension": ".py",
   "mimetype": "text/x-python",
   "name": "python",
   "nbconvert_exporter": "python",
   "pygments_lexer": "ipython3",
   "version": "3.9.19"
  }
 },
 "nbformat": 4,
 "nbformat_minor": 2
}

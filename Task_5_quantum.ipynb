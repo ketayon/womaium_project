{
 "cells": [
  {
   "cell_type": "code",
   "execution_count": 54,
   "metadata": {},
   "outputs": [],
   "source": [
    "import os\n",
    "import shutil\n",
    "import platform\n",
    "import subprocess\n",
    "import zipfile\n",
    "from PIL import Image\n",
    "import numpy as np\n",
    "import pandas as pd\n",
    "from sklearn.decomposition import PCA\n",
    "from sklearn.model_selection import train_test_split\n",
    "from sklearn.preprocessing import StandardScaler\n",
    "from sklearn.metrics import accuracy_score\n",
    "import kaggle\n",
    "import pennylane as qml\n",
    "from pennylane import numpy as pnp\n",
    "from pennylane.optimize import AdamOptimizer\n",
    "from tqdm import trange\n",
    "import matplotlib.pyplot as plt"
   ]
  },
  {
   "cell_type": "markdown",
   "metadata": {},
   "source": [
    "Define the paths"
   ]
  },
  {
   "cell_type": "code",
   "execution_count": 2,
   "metadata": {},
   "outputs": [],
   "source": [
    "kaggle_dir = \".kaggle/\"\n",
    "kaggle_json_path = \".kaggle/kaggle.json\"\n",
    "dataset_url = \"danielbacioiu/tig-aluminium-5083\"\n",
    "base_dir = 'kaggle/datasets/al5083'"
   ]
  },
  {
   "cell_type": "markdown",
   "metadata": {},
   "source": [
    "Kaggle setup"
   ]
  },
  {
   "cell_type": "code",
   "execution_count": 7,
   "metadata": {},
   "outputs": [
    {
     "name": "stdout",
     "output_type": "stream",
     "text": [
      "Setup complete!\n"
     ]
    }
   ],
   "source": [
    "if not os.path.exists(kaggle_dir):\n",
    "    os.makedirs(kaggle_dir)\n",
    "\n",
    "shutil.move(kaggle_json_path, os.path.join(kaggle_dir, \"kaggle.json\"))\n",
    "\n",
    "if platform.system() != 'Windows':\n",
    "    os.chmod(kaggle_json_path, 0o600)\n",
    "else:\n",
    "    os.chmod(kaggle_json_path, 0o400)\n",
    "\n",
    "print(\"Setup complete!\")"
   ]
  },
  {
   "cell_type": "markdown",
   "metadata": {},
   "source": [
    "Download dataset"
   ]
  },
  {
   "cell_type": "code",
   "execution_count": 9,
   "metadata": {},
   "outputs": [
    {
     "name": "stdout",
     "output_type": "stream",
     "text": [
      "Dataset download complete!\n"
     ]
    }
   ],
   "source": [
    "os.chmod(os.path.expanduser(\".kaggle/kaggle.json\"), 0o600)\n",
    "subprocess.run([\"kaggle\", \"datasets\", \"download\", \"-d\", dataset_url])\n",
    "\n",
    "print(\"Dataset download complete!\")"
   ]
  },
  {
   "cell_type": "markdown",
   "metadata": {},
   "source": [
    "Unzip dataset"
   ]
  },
  {
   "cell_type": "code",
   "execution_count": 11,
   "metadata": {},
   "outputs": [
    {
     "name": "stdout",
     "output_type": "stream",
     "text": [
      "Dataset unzipped successfully!\n",
      "Zip archive removed!\n"
     ]
    }
   ],
   "source": [
    "zip_file = None\n",
    "for file in os.listdir('.'):\n",
    "    if file.endswith(\".zip\"):\n",
    "        zip_file = file\n",
    "        break\n",
    "\n",
    "if zip_file:\n",
    "    zip_file_path = 'tig-aluminium-5083.zip'\n",
    "    with zipfile.ZipFile(zip_file_path, 'r') as zip_ref:\n",
    "        zip_ref.extractall('kaggle/datasets/')\n",
    "    print(\"Dataset unzipped successfully!\")\n",
    "    os.remove(zip_file_path)\n",
    "    print(\"Zip archive removed!\")\n",
    "else:\n",
    "    print(\"No zip file found.\")"
   ]
  },
  {
   "cell_type": "markdown",
   "metadata": {},
   "source": [
    "Load and preprocess data"
   ]
  },
  {
   "cell_type": "code",
   "execution_count": 3,
   "metadata": {},
   "outputs": [],
   "source": [
    "train_data_path = os.path.join(base_dir, 'train')\n",
    "test_data_path = os.path.join(base_dir, 'test')"
   ]
  },
  {
   "cell_type": "markdown",
   "metadata": {},
   "source": [
    "Load the data"
   ]
  },
  {
   "cell_type": "code",
   "execution_count": 4,
   "metadata": {},
   "outputs": [],
   "source": [
    "def load_data(data_path, fraction=1.0):\n",
    "    images = []\n",
    "    labels = []\n",
    "    for root, _, files in os.walk(data_path):\n",
    "        if fraction < 1.0:\n",
    "            files = np.random.choice(files, size=int(len(files) * fraction), replace=False)\n",
    "        for file in files:\n",
    "            if file.endswith(\".png\"):\n",
    "                img_path = os.path.join(root, file)\n",
    "                img = Image.open(img_path).convert('L')  # Convert to grayscale\n",
    "                img = img.resize((28, 28))  # Resize for simplicity\n",
    "                img = np.array(img).flatten()  # Flatten the image\n",
    "                images.append(img)\n",
    "                label = os.path.basename(root)\n",
    "                labels.append(label)\n",
    "    return np.array(images), np.array(labels)"
   ]
  },
  {
   "cell_type": "markdown",
   "metadata": {},
   "source": [
    "Load only 1/3 of the data"
   ]
  },
  {
   "cell_type": "code",
   "execution_count": 5,
   "metadata": {},
   "outputs": [],
   "source": [
    "X_train, y_train = load_data(train_data_path, fraction=1/3)\n",
    "X_test, y_test = load_data(test_data_path, fraction=1/3)"
   ]
  },
  {
   "cell_type": "markdown",
   "metadata": {},
   "source": [
    "Create a label map with all unique labels from both training and test sets"
   ]
  },
  {
   "cell_type": "code",
   "execution_count": 6,
   "metadata": {},
   "outputs": [],
   "source": [
    "unique_labels = np.unique(np.concatenate((y_train, y_test)))\n",
    "label_map = {label: idx for idx, label in enumerate(unique_labels)}"
   ]
  },
  {
   "cell_type": "markdown",
   "metadata": {},
   "source": [
    "Encode the labels"
   ]
  },
  {
   "cell_type": "code",
   "execution_count": 7,
   "metadata": {},
   "outputs": [],
   "source": [
    "y_train = np.array([label_map[label] for label in y_train])\n",
    "y_test = np.array([label_map[label] for label in y_test])"
   ]
  },
  {
   "cell_type": "markdown",
   "metadata": {},
   "source": [
    "Standardize the data"
   ]
  },
  {
   "cell_type": "code",
   "execution_count": 8,
   "metadata": {},
   "outputs": [],
   "source": [
    "scaler = StandardScaler()\n",
    "X_train = scaler.fit_transform(X_train)\n",
    "X_test = scaler.transform(X_test)"
   ]
  },
  {
   "cell_type": "markdown",
   "metadata": {},
   "source": [
    "Apply PCA to reduce dimensionality"
   ]
  },
  {
   "cell_type": "code",
   "execution_count": 9,
   "metadata": {},
   "outputs": [],
   "source": [
    "num_qubits = 8  # Use 8 qubits for simplicity\n",
    "pca = PCA(n_components=num_qubits)\n",
    "X_train = pca.fit_transform(X_train)\n",
    "X_test = pca.transform(X_test)"
   ]
  },
  {
   "cell_type": "markdown",
   "metadata": {},
   "source": [
    "Split the training data for validation"
   ]
  },
  {
   "cell_type": "code",
   "execution_count": 10,
   "metadata": {},
   "outputs": [],
   "source": [
    "X_train, X_val, y_train, y_val = train_test_split(X_train, y_train, test_size=0.2, random_state=42)"
   ]
  },
  {
   "cell_type": "markdown",
   "metadata": {},
   "source": [
    "Define the quantum device"
   ]
  },
  {
   "cell_type": "code",
   "execution_count": 11,
   "metadata": {},
   "outputs": [],
   "source": [
    "dev = qml.device(\"default.qubit\", wires=num_qubits)"
   ]
  },
  {
   "cell_type": "markdown",
   "metadata": {},
   "source": [
    "Define the quantum circuit"
   ]
  },
  {
   "cell_type": "code",
   "execution_count": 19,
   "metadata": {},
   "outputs": [],
   "source": [
    "def create_quantum_circuit():\n",
    "    @qml.qnode(dev, interface='autograd')\n",
    "    def quantum_circuit(inputs, weights):\n",
    "        qml.templates.AngleEmbedding(inputs, wires=range(num_qubits))\n",
    "        qml.templates.StronglyEntanglingLayers(weights, wires=range(num_qubits))\n",
    "        return qml.expval(qml.PauliZ(0))\n",
    "    return quantum_circuit\n",
    "\n",
    "quantum_circuit = create_quantum_circuit()"
   ]
  },
  {
   "cell_type": "markdown",
   "metadata": {},
   "source": [
    "Define the QNN"
   ]
  },
  {
   "cell_type": "code",
   "execution_count": 20,
   "metadata": {},
   "outputs": [],
   "source": [
    "def qnn_model(weights, inputs):\n",
    "    predictions = [quantum_circuit(x, weights) for x in inputs]\n",
    "    return pnp.array(predictions)"
   ]
  },
  {
   "cell_type": "markdown",
   "metadata": {},
   "source": [
    "Cost function"
   ]
  },
  {
   "cell_type": "code",
   "execution_count": 47,
   "metadata": {},
   "outputs": [],
   "source": [
    "def cost(weights, inputs, labels):\n",
    "    predictions = qnn_model(weights, inputs)\n",
    "    return pnp.mean((predictions - labels)**2)"
   ]
  },
  {
   "cell_type": "markdown",
   "metadata": {},
   "source": [
    "Initialize weights"
   ]
  },
  {
   "cell_type": "code",
   "execution_count": 48,
   "metadata": {},
   "outputs": [],
   "source": [
    "num_layers = 6\n",
    "weights = 0.01 * np.random.randn(num_layers, num_qubits, 3)"
   ]
  },
  {
   "cell_type": "markdown",
   "metadata": {},
   "source": [
    "Optimizer"
   ]
  },
  {
   "cell_type": "code",
   "execution_count": 49,
   "metadata": {},
   "outputs": [],
   "source": [
    "opt = qml.GradientDescentOptimizer(stepsize=0.1)\n",
    "num_epochs = 10"
   ]
  },
  {
   "cell_type": "markdown",
   "metadata": {},
   "source": [
    "Training"
   ]
  },
  {
   "cell_type": "code",
   "execution_count": 50,
   "metadata": {},
   "outputs": [
    {
     "name": "stderr",
     "output_type": "stream",
     "text": [
      "Training Progress:  10%|█         | 1/10 [04:04<36:39, 244.38s/it]"
     ]
    },
    {
     "name": "stdout",
     "output_type": "stream",
     "text": [
      "Epoch 1 - Cost: 1103.0294 - Accuracy: 0.0434\n"
     ]
    },
    {
     "name": "stderr",
     "output_type": "stream",
     "text": [
      "c:\\Users\\max_h\\anaconda3\\envs\\myenv_3_9\\lib\\site-packages\\pennylane\\_grad.py:157: UserWarning: Attempted to differentiate a function with no trainable parameters. If this is unintended, please add trainable parameters via the 'requires_grad' attribute or 'argnum' keyword.\n",
      "  warnings.warn(\n",
      "Training Progress:  20%|██        | 2/10 [08:21<33:34, 251.86s/it]"
     ]
    },
    {
     "name": "stdout",
     "output_type": "stream",
     "text": [
      "Epoch 2 - Cost: 1103.0294 - Accuracy: 0.0434\n"
     ]
    },
    {
     "name": "stderr",
     "output_type": "stream",
     "text": [
      "c:\\Users\\max_h\\anaconda3\\envs\\myenv_3_9\\lib\\site-packages\\pennylane\\_grad.py:157: UserWarning: Attempted to differentiate a function with no trainable parameters. If this is unintended, please add trainable parameters via the 'requires_grad' attribute or 'argnum' keyword.\n",
      "  warnings.warn(\n",
      "Training Progress:  30%|███       | 3/10 [14:27<35:29, 304.18s/it]"
     ]
    },
    {
     "name": "stdout",
     "output_type": "stream",
     "text": [
      "Epoch 3 - Cost: 1103.0294 - Accuracy: 0.0434\n"
     ]
    },
    {
     "name": "stderr",
     "output_type": "stream",
     "text": [
      "c:\\Users\\max_h\\anaconda3\\envs\\myenv_3_9\\lib\\site-packages\\pennylane\\_grad.py:157: UserWarning: Attempted to differentiate a function with no trainable parameters. If this is unintended, please add trainable parameters via the 'requires_grad' attribute or 'argnum' keyword.\n",
      "  warnings.warn(\n",
      "Training Progress:  40%|████      | 4/10 [18:26<27:49, 278.29s/it]"
     ]
    },
    {
     "name": "stdout",
     "output_type": "stream",
     "text": [
      "Epoch 4 - Cost: 1103.0294 - Accuracy: 0.0434\n"
     ]
    },
    {
     "name": "stderr",
     "output_type": "stream",
     "text": [
      "c:\\Users\\max_h\\anaconda3\\envs\\myenv_3_9\\lib\\site-packages\\pennylane\\_grad.py:157: UserWarning: Attempted to differentiate a function with no trainable parameters. If this is unintended, please add trainable parameters via the 'requires_grad' attribute or 'argnum' keyword.\n",
      "  warnings.warn(\n",
      "Training Progress:  50%|█████     | 5/10 [22:32<22:13, 266.61s/it]"
     ]
    },
    {
     "name": "stdout",
     "output_type": "stream",
     "text": [
      "Epoch 5 - Cost: 1103.0294 - Accuracy: 0.0434\n"
     ]
    },
    {
     "name": "stderr",
     "output_type": "stream",
     "text": [
      "c:\\Users\\max_h\\anaconda3\\envs\\myenv_3_9\\lib\\site-packages\\pennylane\\_grad.py:157: UserWarning: Attempted to differentiate a function with no trainable parameters. If this is unintended, please add trainable parameters via the 'requires_grad' attribute or 'argnum' keyword.\n",
      "  warnings.warn(\n",
      "Training Progress:  60%|██████    | 6/10 [51:58<51:46, 776.56s/it]"
     ]
    },
    {
     "name": "stdout",
     "output_type": "stream",
     "text": [
      "Epoch 6 - Cost: 1103.0294 - Accuracy: 0.0434\n"
     ]
    },
    {
     "name": "stderr",
     "output_type": "stream",
     "text": [
      "c:\\Users\\max_h\\anaconda3\\envs\\myenv_3_9\\lib\\site-packages\\pennylane\\_grad.py:157: UserWarning: Attempted to differentiate a function with no trainable parameters. If this is unintended, please add trainable parameters via the 'requires_grad' attribute or 'argnum' keyword.\n",
      "  warnings.warn(\n",
      "Training Progress:  70%|███████   | 7/10 [56:25<30:30, 610.01s/it]"
     ]
    },
    {
     "name": "stdout",
     "output_type": "stream",
     "text": [
      "Epoch 7 - Cost: 1103.0294 - Accuracy: 0.0434\n"
     ]
    },
    {
     "name": "stderr",
     "output_type": "stream",
     "text": [
      "c:\\Users\\max_h\\anaconda3\\envs\\myenv_3_9\\lib\\site-packages\\pennylane\\_grad.py:157: UserWarning: Attempted to differentiate a function with no trainable parameters. If this is unintended, please add trainable parameters via the 'requires_grad' attribute or 'argnum' keyword.\n",
      "  warnings.warn(\n",
      "Training Progress:  80%|████████  | 8/10 [1:00:49<16:39, 499.86s/it]"
     ]
    },
    {
     "name": "stdout",
     "output_type": "stream",
     "text": [
      "Epoch 8 - Cost: 1103.0294 - Accuracy: 0.0434\n"
     ]
    },
    {
     "name": "stderr",
     "output_type": "stream",
     "text": [
      "c:\\Users\\max_h\\anaconda3\\envs\\myenv_3_9\\lib\\site-packages\\pennylane\\_grad.py:157: UserWarning: Attempted to differentiate a function with no trainable parameters. If this is unintended, please add trainable parameters via the 'requires_grad' attribute or 'argnum' keyword.\n",
      "  warnings.warn(\n",
      "Training Progress:  90%|█████████ | 9/10 [1:04:56<07:00, 420.66s/it]"
     ]
    },
    {
     "name": "stdout",
     "output_type": "stream",
     "text": [
      "Epoch 9 - Cost: 1103.0294 - Accuracy: 0.0434\n"
     ]
    },
    {
     "name": "stderr",
     "output_type": "stream",
     "text": [
      "c:\\Users\\max_h\\anaconda3\\envs\\myenv_3_9\\lib\\site-packages\\pennylane\\_grad.py:157: UserWarning: Attempted to differentiate a function with no trainable parameters. If this is unintended, please add trainable parameters via the 'requires_grad' attribute or 'argnum' keyword.\n",
      "  warnings.warn(\n",
      "Training Progress: 100%|██████████| 10/10 [1:09:11<00:00, 415.14s/it]"
     ]
    },
    {
     "name": "stdout",
     "output_type": "stream",
     "text": [
      "Epoch 10 - Cost: 1103.0294 - Accuracy: 0.0434\n"
     ]
    },
    {
     "name": "stderr",
     "output_type": "stream",
     "text": [
      "\n"
     ]
    }
   ],
   "source": [
    "accuracy_list = []\n",
    "\n",
    "for epoch in trange(num_epochs, desc=\"Training Progress\"):\n",
    "    weights, cost_val = opt.step_and_cost(lambda w: cost(w, X_train, y_train), weights)\n",
    "    predictions = qnn_model(weights, X_val)\n",
    "    acc = accuracy_score(y_val, predictions > 0.5)\n",
    "    accuracy_list.append(acc)\n",
    "    print(f\"Epoch {epoch+1} - Cost: {cost_val:.4f} - Accuracy: {acc:.4f}\")"
   ]
  },
  {
   "cell_type": "markdown",
   "metadata": {},
   "source": [
    "Evaluate on test set"
   ]
  },
  {
   "cell_type": "code",
   "execution_count": 51,
   "metadata": {},
   "outputs": [
    {
     "name": "stdout",
     "output_type": "stream",
     "text": [
      "Test Accuracy: 0.0000\n"
     ]
    }
   ],
   "source": [
    "\n",
    "test_predictions = qnn_model(weights, X_test)\n",
    "test_accuracy = accuracy_score(y_test, test_predictions > 0.5)\n",
    "print(f\"Test Accuracy: {test_accuracy:.4f}\")"
   ]
  },
  {
   "cell_type": "markdown",
   "metadata": {},
   "source": [
    "Identify defective parts"
   ]
  },
  {
   "cell_type": "code",
   "execution_count": 52,
   "metadata": {},
   "outputs": [
    {
     "name": "stdout",
     "output_type": "stream",
     "text": [
      "Defective parts indices: [  23   30   72   75   77   80   92  106  114  195  198  204  210  211\n",
      "  229  234  235  236  238  239  241  255  263  278  285  289  300  307\n",
      "  315  317  322  325  326  347  348  352  355  370  388  397  405  419\n",
      "  437  448  449  465  477  484  500  513  518  529  530  535  537  538\n",
      "  547  548  605  615  616  617  640  641  661  664  667  690  691  708\n",
      "  754  757  816  860  886  904  905  909  959  967  984  988  989 1003\n",
      " 1010 1015 1029 1035 1064 1065 1066 1078 1083 1093 1096 1101 1107 1110\n",
      " 1115 1161 1173 1182 1231 1243 1250 1266 1271 1275 1277 1301 1304 1317\n",
      " 1329 1330 1344 1346 1361 1374 1382 1392 1396 1412 1414 1452 1478 1480\n",
      " 1490 1514 1524 1538 1598 1619 1667 1756 1757 1779 1804 1805 1811 1821\n",
      " 1822 1825 1839 1840 1848 1849 1853 1861 1871 1873 1876 1879 1886 1898\n",
      " 1946 1955 1958 1990 1996 2039 2074 2080 2083 2087 2110 2180]\n",
      "Non-defective parts indices: [   0    1    2 ... 2191 2192 2193]\n"
     ]
    }
   ],
   "source": [
    "\n",
    "defective_indices = np.where(test_predictions > 0.5)[0]\n",
    "non_defective_indices = np.where(test_predictions <= 0.5)[0]\n",
    "print(f\"Defective parts indices: {defective_indices}\")\n",
    "print(f\"Non-defective parts indices: {non_defective_indices}\")"
   ]
  },
  {
   "cell_type": "markdown",
   "metadata": {},
   "source": [
    "Plotting Accuracy"
   ]
  },
  {
   "cell_type": "code",
   "execution_count": 55,
   "metadata": {},
   "outputs": [
    {
     "data": {
      "image/png": "[encoded data removed]",
      "text/plain": [
       "<Figure size 1000x500 with 1 Axes>"
      ]
     },
     "metadata": {},
     "output_type": "display_data"
    }
   ],
   "source": [
    "plt.figure(figsize=(10, 5))\n",
    "plt.plot(range(1, num_epochs + 1), accuracy_list, label='Quantum Model')\n",
    "plt.xlabel('Epoch')\n",
    "plt.ylabel('Accuracy (%)')\n",
    "plt.title('Quantum Model Accuracy Over Epochs')\n",
    "plt.legend()\n",
    "plt.show()"
   ]
  }
 ],
 "metadata": {
  "kernelspec": {
   "display_name": "myenv_3_9",
   "language": "python",
   "name": "python3"
  },
  "language_info": {
   "codemirror_mode": {
    "name": "ipython",
    "version": 3
   },
   "file_extension": ".py",
   "mimetype": "text/x-python",
   "name": "python",
   "nbconvert_exporter": "python",
   "pygments_lexer": "ipython3",
   "version": "3.9.19"
  }
 },
 "nbformat": 4,
 "nbformat_minor": 2
}
